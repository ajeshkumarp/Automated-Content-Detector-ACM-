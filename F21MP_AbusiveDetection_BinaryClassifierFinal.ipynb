{
 "cells": [
  {
   "cell_type": "code",
   "execution_count": 2,
   "metadata": {},
   "outputs": [
    {
     "name": "stderr",
     "output_type": "stream",
     "text": [
      "C:\\Users\\ajesh\\Anaconda3\\lib\\site-packages\\statsmodels\\tools\\_testing.py:19: FutureWarning: pandas.util.testing is deprecated. Use the functions in the public API at pandas.testing instead.\n",
      "  import pandas.util.testing as tm\n"
     ]
    }
   ],
   "source": [
    "#import required packages\n",
    "import pandas as pd\n",
    "import numpy as np\n",
    "\n",
    "import re\n",
    "from tqdm import tqdm\n",
    "\n",
    "import matplotlib.pyplot as plt\n",
    "import seaborn as sns\n",
    "from wordcloud import WordCloud ,STOPWORDS\n",
    "\n",
    "from sklearn.model_selection import train_test_split\n",
    "from sklearn.utils import resample"
   ]
  },
  {
   "cell_type": "code",
   "execution_count": 3,
   "metadata": {},
   "outputs": [],
   "source": [
    "from tensorflow.keras.preprocessing.text import Tokenizer\n",
    "from tensorflow.keras.preprocessing.sequence import pad_sequences\n",
    "import tensorflow as tf\n",
    "from tensorflow.keras.layers import Dense, LSTM, Dropout, Bidirectional,Embedding\n",
    "from tensorflow.keras.models import Model\n",
    "from tensorflow.keras.models import Sequential\n",
    "import tensorflow_hub as hub"
   ]
  },
  {
   "cell_type": "code",
   "execution_count": 4,
   "metadata": {},
   "outputs": [],
   "source": [
    "import gensim\n",
    "from gensim.test.utils import common_texts\n",
    "from gensim.models import Word2Vec\n",
    "import multiprocessing\n",
    "from gensim.utils import tokenize"
   ]
  },
  {
   "cell_type": "code",
   "execution_count": 5,
   "metadata": {},
   "outputs": [],
   "source": [
    "from nltk.tokenize import word_tokenize\n",
    "from nltk import pos_tag\n",
    "from nltk.stem import WordNetLemmatizer"
   ]
  },
  {
   "cell_type": "code",
   "execution_count": 6,
   "metadata": {},
   "outputs": [],
   "source": [
    "from PIL import Image\n",
    "import numpy as np"
   ]
  },
  {
   "cell_type": "markdown",
   "metadata": {},
   "source": [
    "Pre-trained Word2Vec embedding"
   ]
  },
  {
   "cell_type": "code",
   "execution_count": 7,
   "metadata": {},
   "outputs": [],
   "source": [
    "WordEmbedding=gensim.models.KeyedVectors.load_word2vec_format('GoogleNews-vectors-negative300.bin',binary=True)"
   ]
  },
  {
   "cell_type": "code",
   "execution_count": 8,
   "metadata": {},
   "outputs": [
    {
     "name": "stdout",
     "output_type": "stream",
     "text": [
      "Vector Dimension: 300\n"
     ]
    },
    {
     "data": {
      "text/plain": [
       "array([-0.14746094,  0.0032959 , -0.30859375,  0.12988281, -0.0324707 ,\n",
       "        0.10205078, -0.06542969, -0.0534668 , -0.02600098,  0.34765625,\n",
       "       -0.04614258,  0.12011719, -0.14550781,  0.36132812, -0.234375  ,\n",
       "       -0.08496094,  0.04785156, -0.13574219, -0.18261719, -0.11474609,\n",
       "        0.24023438,  0.109375  ,  0.484375  ,  0.03295898, -0.36914062,\n",
       "       -0.31445312,  0.04736328, -0.0480957 ,  0.1015625 ,  0.02783203,\n",
       "       -0.12890625, -0.26367188, -0.36523438, -0.45507812,  0.04638672,\n",
       "       -0.2890625 , -0.39453125,  0.10058594, -0.02087402,  0.1796875 ,\n",
       "       -0.10107422, -0.15820312, -0.23242188, -0.15820312, -0.20605469,\n",
       "       -0.28710938, -0.06494141,  0.3203125 , -0.31835938,  0.21777344,\n",
       "       -0.08007812, -0.04833984,  0.1640625 ,  0.2890625 ,  0.09472656,\n",
       "        0.19628906, -0.39453125, -0.20117188, -0.11425781,  0.06884766,\n",
       "       -0.19921875,  0.31445312,  0.23242188,  0.12890625,  0.17480469,\n",
       "       -0.08935547, -0.25976562,  0.44335938,  0.08544922,  0.03442383,\n",
       "       -0.03808594, -0.11376953, -0.40625   ,  0.39257812,  0.16210938,\n",
       "       -0.40429688, -0.01361084,  0.006073  ,  0.50390625, -0.05883789,\n",
       "        0.12695312, -0.2578125 ,  0.21386719,  0.18554688, -0.20800781,\n",
       "       -0.2734375 ,  0.06982422,  0.06494141,  0.22753906, -0.46679688,\n",
       "        0.00473022,  0.02685547, -0.08154297,  0.12695312,  0.18945312,\n",
       "        0.01245117,  0.4609375 , -0.14746094,  0.00964355,  0.09814453,\n",
       "        0.23730469, -0.04003906,  0.01489258, -0.04711914, -0.04980469,\n",
       "        0.17675781, -0.0201416 ,  0.0378418 , -0.22949219, -0.00334167,\n",
       "        0.23632812, -0.03564453, -0.11816406, -0.2578125 , -0.24414062,\n",
       "       -0.05273438,  0.07714844,  0.03515625,  0.08740234,  0.32226562,\n",
       "       -0.07324219,  0.1328125 ,  0.00830078, -0.07861328, -0.24707031,\n",
       "       -0.19335938, -0.2265625 ,  0.26171875,  0.18554688, -0.12695312,\n",
       "       -0.18945312, -0.54296875, -0.36132812, -0.16992188, -0.15917969,\n",
       "       -0.26953125, -0.16308594, -0.4296875 , -0.11376953, -0.12597656,\n",
       "        0.21289062,  0.04321289, -0.23632812, -0.03442383, -0.13183594,\n",
       "       -0.16601562,  0.01367188,  0.24023438, -0.04492188, -0.21582031,\n",
       "        0.6171875 , -0.25195312,  0.18554688, -0.06103516, -0.0065918 ,\n",
       "        0.26757812, -0.25976562, -0.15039062, -0.07958984, -0.5       ,\n",
       "        0.19140625,  0.11816406, -0.22167969, -0.46484375, -0.24707031,\n",
       "        0.17089844, -0.13769531, -0.13964844,  0.10351562,  0.2890625 ,\n",
       "       -0.10351562, -0.00282288,  0.07470703, -0.3046875 ,  0.15527344,\n",
       "       -0.09570312,  0.04931641, -0.18066406,  0.19921875,  0.05834961,\n",
       "       -0.01226807,  0.08251953, -0.390625  ,  0.07617188, -0.15917969,\n",
       "       -0.34375   ,  0.11767578, -0.171875  , -0.37890625, -0.05200195,\n",
       "        0.35546875, -0.03100586,  0.05249023, -0.08496094, -0.48632812,\n",
       "        0.03112793, -0.0456543 , -0.19042969,  0.0703125 , -0.30664062,\n",
       "        0.08203125,  0.05566406, -0.08544922, -0.21679688,  0.01599121,\n",
       "        0.59375   , -0.08203125,  0.21582031,  0.01239014,  0.07714844,\n",
       "       -0.2578125 , -0.09033203,  0.12402344, -0.05297852,  0.01464844,\n",
       "        0.12353516, -0.01538086,  0.06152344, -0.26171875, -0.56640625,\n",
       "       -0.5       , -0.09814453, -0.19042969, -0.01672363, -0.07177734,\n",
       "       -0.02941895,  0.375     , -0.0859375 ,  0.05102539,  0.16015625,\n",
       "       -0.47460938,  0.29492188,  0.13574219,  0.17382812, -0.375     ,\n",
       "       -0.47265625,  0.09716797,  0.07177734,  0.14746094, -0.23535156,\n",
       "       -0.10449219, -0.390625  ,  0.35546875, -0.20019531,  0.09277344,\n",
       "        0.14453125, -0.48828125,  0.0112915 , -0.00311279,  0.21777344,\n",
       "       -0.0324707 ,  0.21289062,  0.31640625, -0.15722656, -0.00921631,\n",
       "        0.12597656, -0.24414062, -0.24121094,  0.06298828, -0.14648438,\n",
       "       -0.16992188, -0.03442383, -0.05004883, -0.00866699, -0.37109375,\n",
       "        0.08154297, -0.02526855,  0.20800781, -0.04003906,  0.00144196,\n",
       "        0.30273438,  0.24902344,  0.04101562,  0.2421875 ,  0.07128906,\n",
       "        0.32226562,  0.22558594,  0.09277344, -0.11279297, -0.16113281,\n",
       "       -0.08056641,  0.00221252,  0.26953125,  0.578125  ,  0.07910156,\n",
       "       -0.21289062,  0.03662109, -0.02624512,  0.00393677,  0.17675781,\n",
       "        0.36914062, -0.09326172, -0.10449219,  0.22949219, -0.33789062,\n",
       "        0.03015137,  0.0546875 ,  0.04980469, -0.08251953, -0.03930664],\n",
       "      dtype=float32)"
      ]
     },
     "execution_count": 8,
     "metadata": {},
     "output_type": "execute_result"
    }
   ],
   "source": [
    "print('Vector Dimension:',WordEmbedding['Abuse'].shape[0])\n",
    "WordEmbedding['Abuse']"
   ]
  },
  {
   "cell_type": "code",
   "execution_count": 9,
   "metadata": {},
   "outputs": [
    {
     "name": "stderr",
     "output_type": "stream",
     "text": [
      "[nltk_data] Downloading package stopwords to\n",
      "[nltk_data]     C:\\Users\\ajesh\\AppData\\Roaming\\nltk_data...\n",
      "[nltk_data]   Package stopwords is already up-to-date!\n"
     ]
    },
    {
     "data": {
      "text/plain": [
       "True"
      ]
     },
     "execution_count": 9,
     "metadata": {},
     "output_type": "execute_result"
    }
   ],
   "source": [
    "import nltk\n",
    "from nltk.corpus import stopwords\n",
    "nltk.download('stopwords')"
   ]
  },
  {
   "cell_type": "code",
   "execution_count": 10,
   "metadata": {},
   "outputs": [],
   "source": [
    "stop_words = set(stopwords.words('english'))\n",
    "stop_words.add(\"br\")\n",
    "stop_words.add(\"wikipedia\")\n",
    "stop_words.add(\"url\")"
   ]
  },
  {
   "cell_type": "code",
   "execution_count": 11,
   "metadata": {},
   "outputs": [],
   "source": [
    "slang_dict=pd.read_csv('slangDict.csv')\n",
    "slang_dict_map = dict(zip(slang_dict['slang'], slang_dict['word']))\n",
    "\n",
    "# Function for replacing the slang words\n",
    "def normalize_slang(text):\n",
    "    return ' '.join([slang_dict_map[word] if word in slang_dict_map else word for word in text.split(' ')])"
   ]
  },
  {
   "cell_type": "code",
   "execution_count": 12,
   "metadata": {},
   "outputs": [],
   "source": [
    "mask = np.array(Image.open(\"twitter_mask.png\"))"
   ]
  },
  {
   "cell_type": "code",
   "execution_count": 68,
   "metadata": {},
   "outputs": [],
   "source": [
    "train_data_bi=pd.read_csv('OffensiveBinaryDataset.csv')\n",
    "test_data_bi = pd.read_csv('test.csv')\n",
    "test_data_bi.drop(['id'],axis=1,inplace=True)"
   ]
  },
  {
   "cell_type": "code",
   "execution_count": 69,
   "metadata": {},
   "outputs": [],
   "source": [
    "df_majority = train_data_bi[train_data_bi.label==\"NOT\"]\n",
    "df_minority = train_data_bi[train_data_bi.label==\"OFF\"]\n",
    "\n",
    "df_majority_downsampled = resample(df_majority,\n",
    "                                  replace=False,\n",
    "                                  n_samples=35000,\n",
    "                                  random_state=123)\n",
    "\n",
    "train_data_bi_new = pd.concat([df_majority_downsampled,df_minority])"
   ]
  },
  {
   "cell_type": "code",
   "execution_count": null,
   "metadata": {},
   "outputs": [],
   "source": []
  },
  {
   "cell_type": "code",
   "execution_count": 15,
   "metadata": {},
   "outputs": [],
   "source": [
    "# Function for replacing the slang words\n",
    "def normalize_slang(text):\n",
    "    return ' '.join([slang_dict_map[word] if word in slang_dict_map else word for word in text.split(' ')])"
   ]
  },
  {
   "cell_type": "code",
   "execution_count": 16,
   "metadata": {},
   "outputs": [],
   "source": [
    "def lemmaWords(tweet):\n",
    "    tweet_tokens = word_tokenize(tweet)\n",
    "    lemmatizer = WordNetLemmatizer() # instatiate an object WordNetLemmatizer Class\n",
    "    lemma_words = [lemmatizer.lemmatize(w,pos=\"v\") for w in tweet_tokens]\n",
    "    return \" \".join(lemma_words) "
   ]
  },
  {
   "cell_type": "code",
   "execution_count": 17,
   "metadata": {},
   "outputs": [],
   "source": [
    "# Function for removing the @user/retweet, urls, slangs word conversion, lowercase conversion, special characters and numbers.\n",
    "def text_cleaning(text):\n",
    "    retweet_user = ['rt', 'user']\n",
    "    if text:\n",
    "        text = ' '.join(text.split('.'))\n",
    "        text = re.sub('\\/', ' ', text)\n",
    "        text = re.sub(r'\\\\', ' ', text)\n",
    "        text = re.sub(r'((www\\.[^\\s]+)|(http)\\S+)', '',text)\n",
    "        text = normalize_slang(text)\n",
    "        for word in retweet_user:\n",
    "            text = re.sub(word,'', text)\n",
    "            text = re.sub(word.upper(),' ',text)\n",
    "        #text = re.sub(r'\\s+', ' ', re.sub('[^A-Za-z]', ' ', text.strip().lower())).strip()\n",
    "        text = re.sub(r'\\W+', ' ', text.strip().lower()).strip()\n",
    "        text = re.sub(r\"[0-9]\", '', text)\n",
    "        text = [word for word in text.split() if word not in stop_words]\n",
    "        return text\n",
    "    return []"
   ]
  },
  {
   "cell_type": "code",
   "execution_count": 18,
   "metadata": {},
   "outputs": [],
   "source": [
    "def TextPreprocessing(df):\n",
    "    df['tweets'] = df['tweets'].apply(lambda x: ' '.join(text_cleaning(x)))\n",
    "    df['tweets'] = df['tweets'].apply(lemmaWords)\n",
    "    df['tweet_length']=df['tweets'].apply(len)\n",
    "    df['text_tokens']=df['tweets'].apply(lambda x: x.split())\n",
    "    df['class_label']=np.where(df['label']== 'OFF', 1, 0)\n",
    "    #removing the tweets more than 300 characters.\n",
    "    longtweets_index_names = df[(df['tweet_length'] >= 300)].index\n",
    "    df.drop(longtweets_index_names, inplace = True)\n",
    "    return df\n",
    "    \n",
    "    "
   ]
  },
  {
   "cell_type": "code",
   "execution_count": 19,
   "metadata": {},
   "outputs": [],
   "source": [
    "train_data= TextPreprocessing(train_data_bi_new)"
   ]
  },
  {
   "cell_type": "code",
   "execution_count": 170,
   "metadata": {},
   "outputs": [
    {
     "data": {
      "text/plain": [
       "array([0, 0, 0, ..., 1, 1, 1])"
      ]
     },
     "execution_count": 170,
     "metadata": {},
     "output_type": "execute_result"
    }
   ],
   "source": [
    "np.array(train_data.iloc[:,4])"
   ]
  },
  {
   "cell_type": "code",
   "execution_count": 20,
   "metadata": {},
   "outputs": [],
   "source": [
    "def textPadding(sequence,maxlength):\n",
    "    padded_sequence=pad_sequences(sequence, maxlen = maxlength,\n",
    "                                padding = 'pre',\n",
    "                                truncating='pre')\n",
    "    return padded_sequence"
   ]
  },
  {
   "cell_type": "code",
   "execution_count": 21,
   "metadata": {},
   "outputs": [],
   "source": [
    "def get_Word2Vec(embedding_matrix,tokenizer_items):\n",
    "    skipped_words=0\n",
    "    \n",
    "    for word, index in tokenizer_items:\n",
    "        try:\n",
    "            embedding_vector=WordEmbedding[word]\n",
    "            embedding_matrix[index]= embedding_vector\n",
    "        except:\n",
    "            skipped_words= skipped_words+1\n",
    "            pass\n",
    "       # if embedding_vector is not None:\n",
    "            \n",
    "            \n",
    "    return embedding_matrix,skipped_words"
   ]
  },
  {
   "cell_type": "code",
   "execution_count": 34,
   "metadata": {},
   "outputs": [],
   "source": [
    "def TextPreprocessing_FeatureExtraction(train_df,test_df):\n",
    "    train_data= TextPreprocessing(train_df)\n",
    "    test_data= TextPreprocessing(test_df)\n",
    "    \n",
    "    tokenizer = Tokenizer(num_words = 10000, oov_token='<oov>')\n",
    "    tokenizer.fit_on_texts(train_data.text_tokens)\n",
    "    vocab_size=len(tokenizer.word_index)+1\n",
    "    \n",
    "    #Splitting train and validation data\n",
    "    train_X = train_data.iloc[:,3]\n",
    "    train_Y=np.array(train_data.iloc[:,4])\n",
    "    \n",
    "    test_X = test_data.iloc[:,3]\n",
    "    test_Y=np.array(test_data.iloc[:,4])\n",
    "    \n",
    "     \n",
    "    #Prepairing token sequence for training and validation set\n",
    "    traning_sequences = tokenizer.texts_to_sequences(train_X)\n",
    "    test_sequences = tokenizer.texts_to_sequences(test_X)\n",
    "    \n",
    "    #Getting maximum number of words in text for padding\n",
    "    maxlen = max([len(x) for x in np.array(traning_sequences)])\n",
    "    \n",
    "    #Applying padding for the shorter text\n",
    "    training_padded = textPadding(traning_sequences,maxlen)\n",
    "    test_padded = textPadding(test_sequences,maxlen)\n",
    "    \n",
    "    #Prepairing the embedding matrix for the dataset\n",
    "    embedding_matrix=np.zeros((vocab_size,300))    \n",
    "    embedding_matrix,skipped_words=get_Word2Vec(embedding_matrix,tokenizer.word_index.items())\n",
    "    \n",
    "    return training_padded,test_padded,train_Y,test_Y,vocab_size,maxlen,embedding_matrix\n",
    "    "
   ]
  },
  {
   "cell_type": "code",
   "execution_count": 70,
   "metadata": {
    "scrolled": true
   },
   "outputs": [
    {
     "name": "stderr",
     "output_type": "stream",
     "text": [
      "C:\\Users\\ajesh\\Anaconda3\\lib\\site-packages\\ipykernel_launcher.py:23: VisibleDeprecationWarning: Creating an ndarray from ragged nested sequences (which is a list-or-tuple of lists-or-tuples-or ndarrays with different lengths or shapes) is deprecated. If you meant to do this, you must specify 'dtype=object' when creating the ndarray\n"
     ]
    }
   ],
   "source": [
    "training_padded,test_padded,train_Y,test_Y,vocab_size,maxlen,embedding_matrix=TextPreprocessing_FeatureExtraction(train_data_bi,test_data_bi)"
   ]
  },
  {
   "cell_type": "code",
   "execution_count": 64,
   "metadata": {},
   "outputs": [
    {
     "data": {
      "text/plain": [
       "(62706, 90)"
      ]
     },
     "execution_count": 64,
     "metadata": {},
     "output_type": "execute_result"
    }
   ],
   "source": [
    "training_padded.shape"
   ]
  },
  {
   "cell_type": "code",
   "execution_count": 71,
   "metadata": {},
   "outputs": [],
   "source": [
    "\n",
    "model_bi_v3=Sequential()\n",
    "model_bi_v3.add(Embedding(vocab_size,300,weights=[embedding_matrix], input_length=maxlen, trainable=False))\n",
    "model_bi_v3.add(LSTM(128,dropout=0.5, recurrent_dropout=0.5))\n",
    "model_bi_v3.add(Dense(1,activation='sigmoid'))"
   ]
  },
  {
   "cell_type": "code",
   "execution_count": 72,
   "metadata": {},
   "outputs": [],
   "source": [
    "model_bi_v3.compile(loss='binary_crossentropy',\n",
    "              optimizer='adam',\n",
    "              metrics=['accuracy'])"
   ]
  },
  {
   "cell_type": "code",
   "execution_count": 73,
   "metadata": {},
   "outputs": [
    {
     "name": "stdout",
     "output_type": "stream",
     "text": [
      "Epoch 1/30\n",
      "101/101 [==============================] - 229s 2s/step - loss: 0.3501 - accuracy: 0.8465 - val_loss: 0.1553 - val_accuracy: 0.9695\n",
      "Epoch 2/30\n",
      "101/101 [==============================] - 233s 2s/step - loss: 0.2671 - accuracy: 0.8824 - val_loss: 0.0886 - val_accuracy: 0.9829\n",
      "Epoch 3/30\n",
      "101/101 [==============================] - 249s 2s/step - loss: 0.2525 - accuracy: 0.8900 - val_loss: 0.1229 - val_accuracy: 0.9643\n",
      "Epoch 4/30\n",
      "101/101 [==============================] - 253s 3s/step - loss: 0.2440 - accuracy: 0.8935 - val_loss: 0.0995 - val_accuracy: 0.9710\n",
      "Epoch 5/30\n",
      "101/101 [==============================] - 277s 3s/step - loss: 0.2382 - accuracy: 0.8964 - val_loss: 0.1137 - val_accuracy: 0.9696\n",
      "Epoch 6/30\n",
      "101/101 [==============================] - 274s 3s/step - loss: 0.2326 - accuracy: 0.8998 - val_loss: 0.0888 - val_accuracy: 0.9788\n",
      "Epoch 7/30\n",
      "101/101 [==============================] - 274s 3s/step - loss: 0.2301 - accuracy: 0.8989 - val_loss: 0.0582 - val_accuracy: 0.9872\n",
      "Epoch 8/30\n",
      "101/101 [==============================] - 276s 3s/step - loss: 0.2264 - accuracy: 0.9032 - val_loss: 0.0806 - val_accuracy: 0.9821\n",
      "Epoch 9/30\n",
      "101/101 [==============================] - 270s 3s/step - loss: 0.2224 - accuracy: 0.9035 - val_loss: 0.0907 - val_accuracy: 0.9757\n",
      "Epoch 10/30\n",
      "101/101 [==============================] - 273s 3s/step - loss: 0.2204 - accuracy: 0.9038 - val_loss: 0.0750 - val_accuracy: 0.9808\n",
      "Epoch 11/30\n",
      "101/101 [==============================] - 277s 3s/step - loss: 0.2176 - accuracy: 0.9054 - val_loss: 0.0807 - val_accuracy: 0.9801\n",
      "Epoch 12/30\n",
      "101/101 [==============================] - 270s 3s/step - loss: 0.2154 - accuracy: 0.9061 - val_loss: 0.0793 - val_accuracy: 0.9814\n",
      "Epoch 13/30\n",
      "101/101 [==============================] - 271s 3s/step - loss: 0.2134 - accuracy: 0.9076 - val_loss: 0.1316 - val_accuracy: 0.9649\n",
      "Epoch 14/30\n",
      "101/101 [==============================] - 288s 3s/step - loss: 0.2105 - accuracy: 0.9083 - val_loss: 0.0964 - val_accuracy: 0.9716\n",
      "Epoch 15/30\n",
      "101/101 [==============================] - 246s 2s/step - loss: 0.2093 - accuracy: 0.9095 - val_loss: 0.1026 - val_accuracy: 0.9731\n",
      "Epoch 16/30\n",
      "101/101 [==============================] - 230s 2s/step - loss: 0.2067 - accuracy: 0.9102 - val_loss: 0.0851 - val_accuracy: 0.9753\n",
      "Epoch 17/30\n",
      "101/101 [==============================] - 231s 2s/step - loss: 0.2034 - accuracy: 0.9112 - val_loss: 0.1094 - val_accuracy: 0.9654\n",
      "Epoch 18/30\n",
      "101/101 [==============================] - 237s 2s/step - loss: 0.2023 - accuracy: 0.9123 - val_loss: 0.0812 - val_accuracy: 0.9800\n",
      "Epoch 19/30\n",
      "101/101 [==============================] - 229s 2s/step - loss: 0.2014 - accuracy: 0.9120 - val_loss: 0.0664 - val_accuracy: 0.9833\n",
      "Epoch 20/30\n",
      "101/101 [==============================] - 228s 2s/step - loss: 0.1970 - accuracy: 0.9145 - val_loss: 0.0861 - val_accuracy: 0.9716\n",
      "Epoch 21/30\n",
      "101/101 [==============================] - 264s 3s/step - loss: 0.1955 - accuracy: 0.9153 - val_loss: 0.0742 - val_accuracy: 0.9762\n",
      "Epoch 22/30\n",
      "101/101 [==============================] - 268s 3s/step - loss: 0.1951 - accuracy: 0.9159 - val_loss: 0.1032 - val_accuracy: 0.9674\n",
      "Epoch 23/30\n",
      "101/101 [==============================] - 259s 3s/step - loss: 0.1931 - accuracy: 0.9161 - val_loss: 0.0989 - val_accuracy: 0.9711\n",
      "Epoch 24/30\n",
      "101/101 [==============================] - 238s 2s/step - loss: 0.1912 - accuracy: 0.9180 - val_loss: 0.0763 - val_accuracy: 0.9777\n",
      "Epoch 25/30\n",
      "101/101 [==============================] - 255s 3s/step - loss: 0.1897 - accuracy: 0.9178 - val_loss: 0.0801 - val_accuracy: 0.9766\n",
      "Epoch 26/30\n",
      "101/101 [==============================] - 232s 2s/step - loss: 0.1881 - accuracy: 0.9176 - val_loss: 0.0878 - val_accuracy: 0.9711\n",
      "Epoch 27/30\n",
      "101/101 [==============================] - 231s 2s/step - loss: 0.1851 - accuracy: 0.9202 - val_loss: 0.0861 - val_accuracy: 0.9754\n",
      "Epoch 28/30\n",
      "101/101 [==============================] - 230s 2s/step - loss: 0.1819 - accuracy: 0.9212 - val_loss: 0.0879 - val_accuracy: 0.9734\n",
      "Epoch 29/30\n",
      "101/101 [==============================] - 229s 2s/step - loss: 0.1804 - accuracy: 0.9211 - val_loss: 0.0792 - val_accuracy: 0.9750\n",
      "Epoch 30/30\n",
      "101/101 [==============================] - 232s 2s/step - loss: 0.1785 - accuracy: 0.9233 - val_loss: 0.0831 - val_accuracy: 0.9715\n"
     ]
    }
   ],
   "source": [
    "history_bi_v3 = model_bi_v3.fit(training_padded, train_Y, epochs=30,batch_size = 500, validation_split=0.2,verbose=1)"
   ]
  },
  {
   "cell_type": "code",
   "execution_count": 76,
   "metadata": {},
   "outputs": [
    {
     "name": "stdout",
     "output_type": "stream",
     "text": [
      "dict_keys(['loss', 'accuracy', 'val_loss', 'val_accuracy'])\n"
     ]
    },
    {
     "data": {
      "image/png": "[encoded data removed]",
      "text/plain": [
       "<Figure size 432x288 with 1 Axes>"
      ]
     },
     "metadata": {
      "needs_background": "light"
     },
     "output_type": "display_data"
    },
    {
     "data": {
      "image/png": "[encoded data removed]",
      "text/plain": [
       "<Figure size 432x288 with 1 Axes>"
      ]
     },
     "metadata": {
      "needs_background": "light"
     },
     "output_type": "display_data"
    }
   ],
   "source": [
    "print(history_bi.history.keys())\n",
    "\n",
    "# summarize history for accuracy\n",
    "plt.plot(history_bi.history['accuracy'])\n",
    "plt.plot(history_bi.history['val_accuracy'])\n",
    "plt.title('model accuracy')\n",
    "plt.ylabel('accuracy')\n",
    "plt.xlabel('epoch')\n",
    "plt.legend(['train', 'test'], loc='upper left')\n",
    "plt.show()\n",
    "\n",
    "# summarize history for loss\n",
    "plt.plot(history_bi.history['loss'])\n",
    "plt.plot(history_bi.history['val_loss'])\n",
    "plt.title('model loss')\n",
    "plt.ylabel('loss')\n",
    "plt.xlabel('epoch')\n",
    "plt.legend(['train', 'test'], loc='upper left')\n",
    "plt.show()"
   ]
  },
  {
   "cell_type": "code",
   "execution_count": 83,
   "metadata": {},
   "outputs": [
    {
     "name": "stdout",
     "output_type": "stream",
     "text": [
      " Training and Validation accuracy:  0.9067093292872112\n"
     ]
    }
   ],
   "source": [
    "print(' Training and Validation accuracy: ',np.mean(history_bi_v3.history['accuracy']))"
   ]
  },
  {
   "cell_type": "code",
   "execution_count": null,
   "metadata": {},
   "outputs": [],
   "source": []
  },
  {
   "cell_type": "code",
   "execution_count": null,
   "metadata": {},
   "outputs": [],
   "source": []
  },
  {
   "cell_type": "code",
   "execution_count": 80,
   "metadata": {},
   "outputs": [
    {
     "name": "stdout",
     "output_type": "stream",
     "text": [
      "27/27 [==============================] - 1s 44ms/step - loss: 0.4304 - accuracy: 0.8093\n"
     ]
    }
   ],
   "source": [
    "score = model_bi_v3.evaluate(test_padded, test_Y, verbose=1)"
   ]
  },
  {
   "cell_type": "code",
   "execution_count": null,
   "metadata": {},
   "outputs": [],
   "source": []
  }
 ],
 "metadata": {
  "kernelspec": {
   "display_name": "Python 3",
   "language": "python",
   "name": "python3"
  },
  "language_info": {
   "codemirror_mode": {
    "name": "ipython",
    "version": 3
   },
   "file_extension": ".py",
   "mimetype": "text/x-python",
   "name": "python",
   "nbconvert_exporter": "python",
   "pygments_lexer": "ipython3",
   "version": "3.7.4"
  }
 },
 "nbformat": 4,
 "nbformat_minor": 2
}
