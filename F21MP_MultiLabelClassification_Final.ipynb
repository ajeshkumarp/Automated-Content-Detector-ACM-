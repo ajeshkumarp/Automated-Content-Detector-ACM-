{
 "cells": [
  {
   "cell_type": "code",
   "execution_count": 198,
   "metadata": {},
   "outputs": [],
   "source": [
    "import pandas as pd\n",
    "import numpy as np\n",
    "import re\n",
    "import os\n",
    "from keras.preprocessing.text import one_hot\n",
    "from keras.preprocessing.sequence import pad_sequences\n",
    "from keras.models import Sequential\n",
    "from keras.layers.core import Activation, Dropout, Dense\n",
    "from keras.layers import Flatten, LSTM, BatchNormalization\n",
    "from keras.layers import GlobalMaxPooling1D\n",
    "from keras.models import Model\n",
    "from keras.layers.embeddings import Embedding\n",
    "from sklearn.model_selection import train_test_split\n",
    "from keras.preprocessing.text import Tokenizer\n",
    "from keras.layers import Input\n",
    "from keras.layers.merge import Concatenate\n",
    "#from keras.utils import plot_model\n",
    "import matplotlib.pyplot as plt\n",
    "from numpy import array\n",
    "from numpy import asarray\n",
    "from numpy import zeros\n",
    "import tensorflow as tf\n",
    "import keras.backend as K\n",
    "from tensorflow.python.keras import backend as K2\n",
    "from keras.callbacks import EarlyStopping, ModelCheckpoint\n",
    "from keras.models import load_model\n",
    "import yaml"
   ]
  },
  {
   "cell_type": "code",
   "execution_count": 195,
   "metadata": {},
   "outputs": [
    {
     "name": "stderr",
     "output_type": "stream",
     "text": [
      "[nltk_data] Downloading package stopwords to\n",
      "[nltk_data]     C:\\Users\\ajesh\\AppData\\Roaming\\nltk_data...\n",
      "[nltk_data]   Package stopwords is already up-to-date!\n"
     ]
    },
    {
     "data": {
      "text/plain": [
       "True"
      ]
     },
     "execution_count": 195,
     "metadata": {},
     "output_type": "execute_result"
    }
   ],
   "source": [
    "import nltk\n",
    "from nltk.corpus import stopwords\n",
    "nltk.download('stopwords')"
   ]
  },
  {
   "cell_type": "code",
   "execution_count": 196,
   "metadata": {},
   "outputs": [],
   "source": [
    "stop_words = set(stopwords.words('english'))\n",
    "stop_words.add(\"br\")\n",
    "stop_words.add(\"wikipedia\")\n",
    "stop_words.add(\"url\")"
   ]
  },
  {
   "cell_type": "code",
   "execution_count": 230,
   "metadata": {},
   "outputs": [
    {
     "data": {
      "text/plain": [
       "(159571, 8)"
      ]
     },
     "execution_count": 230,
     "metadata": {},
     "output_type": "execute_result"
    }
   ],
   "source": [
    "train_data = pd.read_csv('train.csv',sep=',', encoding='ISO-8859-1')\n",
    "test_data  = pd.read_csv('multiLabelTest.csv',sep=',', encoding='ISO-8859-1')\n",
    "np.shape(train_data)"
   ]
  },
  {
   "cell_type": "code",
   "execution_count": 231,
   "metadata": {},
   "outputs": [],
   "source": [
    "slang_dict=pd.read_csv('slangDict.csv')\n",
    "slang_dict_map = dict(zip(slang_dict['slang'], slang_dict['word']))"
   ]
  },
  {
   "cell_type": "code",
   "execution_count": 232,
   "metadata": {},
   "outputs": [],
   "source": [
    "train_data = train_data.drop('id', axis=1)"
   ]
  },
  {
   "cell_type": "code",
   "execution_count": 233,
   "metadata": {},
   "outputs": [],
   "source": [
    "test_data.columns = train_data.columns"
   ]
  },
  {
   "cell_type": "code",
   "execution_count": 234,
   "metadata": {},
   "outputs": [],
   "source": [
    "train_data = train_data[train_data['comment_text'] != \"\" ]\n",
    "test_data = test_data[test_data['comment_text'] != \"\" ]\n",
    "train_data['comment_text'] = train_data['comment_text'].fillna(\"\")\n",
    "test_data['comment_text'] = test_data['comment_text'].fillna(\"\")"
   ]
  },
  {
   "cell_type": "code",
   "execution_count": 235,
   "metadata": {},
   "outputs": [],
   "source": [
    "rowsums=train_data.iloc[:,1:].sum(axis=1)"
   ]
  },
  {
   "cell_type": "code",
   "execution_count": 238,
   "metadata": {},
   "outputs": [],
   "source": [
    "train_data['clean']=(rowsums==0)"
   ]
  },
  {
   "cell_type": "code",
   "execution_count": 251,
   "metadata": {},
   "outputs": [],
   "source": [
    "x=train_data['clean'].value_counts()"
   ]
  },
  {
   "cell_type": "code",
   "execution_count": 258,
   "metadata": {},
   "outputs": [
    {
     "name": "stdout",
     "output_type": "stream",
     "text": [
      "Total comments =  159571\n",
      "Total clean comments =  143346\n",
      "Total comments with abusive labels = 16225\n"
     ]
    }
   ],
   "source": [
    "train_data['clean'].sum()\n",
    "print(\"Total comments = \",len(train_data))\n",
    "print(\"Total clean comments = \",train_data['clean'].sum())\n",
    "print(\"Total comments with abusive labels =\",x[0])\n"
   ]
  },
  {
   "cell_type": "code",
   "execution_count": 7,
   "metadata": {},
   "outputs": [],
   "source": [
    "train_y=train_data.iloc[:,1:7]"
   ]
  },
  {
   "cell_type": "code",
   "execution_count": 8,
   "metadata": {},
   "outputs": [],
   "source": [
    "test_y=test_data.iloc[:,1:7]"
   ]
  },
  {
   "cell_type": "code",
   "execution_count": 9,
   "metadata": {},
   "outputs": [],
   "source": [
    "def clean_data(temp_ds,str_idx):\n",
    "    x=temp_ds.iloc[:,str_idx:].sum()\n",
    "    rowsums=temp_ds.iloc[:,str_idx:].sum(axis=1)\n",
    "    temp_ds['clean']=(rowsums==0)\n",
    "    \n",
    "    df_majority = temp_ds[temp_ds.clean==True]\n",
    "    df_minority = temp_ds[temp_ds.clean==False]\n",
    "\n",
    "    df_majority = df_majority.sample(frac = 1)\n",
    "    df_majority_downsampled = df_majority.head(40000)\n",
    "\n",
    "    temp_ds = pd.concat([df_majority_downsampled,df_minority])\n",
    "    temp_ds = temp_ds.drop('clean', axis=1)\n",
    "    return temp_ds"
   ]
  },
  {
   "cell_type": "code",
   "execution_count": 10,
   "metadata": {},
   "outputs": [],
   "source": [
    "def normalize_slang(text):\n",
    "    return ' '.join([slang_dict_map[word] if word in slang_dict_map else word for word in text.split(' ')])"
   ]
  },
  {
   "cell_type": "code",
   "execution_count": 11,
   "metadata": {},
   "outputs": [],
   "source": [
    "def preprocessor(text, lemmatizer, stemmer, retainNumbers):\n",
    "    import re\n",
    "    from nltk import WordNetLemmatizer\n",
    "    from nltk.stem.snowball import SnowballStemmer\n",
    "    import sys\n",
    "    import pandas as pd\n",
    "    \n",
    "    text = normalize_slang(text)\n",
    "    text = re.sub(r'((www\\.[^\\s]+)|(http)\\S+)', '',text)\n",
    "    retweet_user = ['rt', 'user']\n",
    "    for word in retweet_user:\n",
    "        text = re.sub(word,'', text)\n",
    "        text = re.sub(word.upper(),' ',text)\n",
    "        #text = re.sub(r'\\s+', ' ', re.sub('[^A-Za-z]', ' ', text.strip().lower())).strip()\n",
    "    \n",
    "    \n",
    "    if pd.isnull(text) == True:\n",
    "        return \"\"\n",
    "\n",
    "    if retainNumbers == True:\n",
    "        #remove any character not in the listed range\n",
    "        text = re.sub(\"[^0-9a-zA-Z\\.]+\", \" \", text)\n",
    "    else:\n",
    "        text = re.sub(\"[^a-zA-Z]+\", \" \", text)\n",
    "\n",
    "    #remove extra whitespace\n",
    "    text = re.sub(\"\\s+\", \" \", text)\n",
    "    text = text.lower()\n",
    "    text = [word for word in text.split() if word not in stop_words]\n",
    "\n",
    "    #split text\n",
    "\n",
    "    # http://www.nltk.org/api/nltk.stem.html#nltk.stem.wordnet.WordNetLemmatizer\n",
    "    if(lemmatizer == True):\n",
    "\n",
    "        try:\n",
    "            wordnet_lemmatizer = WordNetLemmatizer()\n",
    "            newText = \"\"\n",
    "            for word in text.split():\n",
    "                newText = \" \".join((newText, wordnet_lemmatizer.lemmatize(word)))\n",
    "            text = newText.strip(\" \")\n",
    "            #text = wordnet_lemmatizer.lemmatize(text)\n",
    "        except Exception as e:\n",
    "            print(e)\n",
    "            print(\"--- downloading nltk wordnet corpora\")\n",
    "            import nltk\n",
    "            nltk.download('wordnet')\n",
    "            newText = \"\"\n",
    "\n",
    "            for word in text.split():\n",
    "                newText = \" \".join((newText, wordnet_lemmatizer.lemmatize(word)))\n",
    "            text = newText.strip(\" \")\n",
    "\n",
    "    #http://www.nltk.org/howto/stem.html\n",
    "    if (stemmer == True):\n",
    "        try:\n",
    "            stm = SnowballStemmer(\"english\")\n",
    "            newText = \"\"\n",
    "            for word in text.split():\n",
    "                newText = \" \".join((newText, stm.stem(word)))\n",
    "            text = newText.strip(\" \")\n",
    "        except Exception as e:\n",
    "            print(e)\n",
    "            print(\"--- downloading nltk snowball data\")\n",
    "            import nltk\n",
    "            nltk.download('snowball_data')\n",
    "            newText = \"\"\n",
    "            for word in text.split():\n",
    "                newText = \" \".join((newText, stm.stem(word)))\n",
    "            text = newText.strip(\" \")\n",
    "\n",
    "    return text"
   ]
  },
  {
   "cell_type": "code",
   "execution_count": 13,
   "metadata": {},
   "outputs": [],
   "source": [
    "def get_GloVeEmbedding(embedding_matrix,tokenizer_items):\n",
    "    \n",
    "    embeddings_index = {}\n",
    "    glovefile = open('glove.6B.200d.txt','r',encoding='utf-8')\n",
    "    for line in glovefile:\n",
    "        values = line.split(\" \")\n",
    "        word = values[0]\n",
    "        coefs = np.asarray(values[1:], dtype='float32')\n",
    "#     coefs.shape\n",
    "        embeddings_index[word] = coefs\n",
    "    glovefile.close()\n",
    "            \n",
    "            \n",
    "    return embedding_matrix,skipped_words"
   ]
  },
  {
   "cell_type": "code",
   "execution_count": 14,
   "metadata": {},
   "outputs": [],
   "source": [
    "def GolveWordEmbeddingIndex():  \n",
    "    embeddings_index = {}\n",
    "    glovefile = open('glove.6B.200d.txt','r',encoding='utf-8')\n",
    "    for line in glovefile:\n",
    "        values = line.split(\" \")\n",
    "        word = values[0]\n",
    "        coefs = np.asarray(values[1:], dtype='float32')\n",
    "        embeddings_index[word] = coefs\n",
    "    glovefile.close()\n",
    "    return embeddings_index\n"
   ]
  },
  {
   "cell_type": "code",
   "execution_count": 16,
   "metadata": {},
   "outputs": [],
   "source": [
    "\n",
    "def get_GloveEmbeddingVector(embedding_matrix,embeddings_index,tokenizer_items):\n",
    "    for word, index in tokenizer_items:\n",
    "        embedding_vector = embeddings_index.get(word)\n",
    "        if embedding_vector is not None:\n",
    "            embedding_matrix[index] = embedding_vector\n",
    "    return embedding_matrix\n"
   ]
  },
  {
   "cell_type": "code",
   "execution_count": 89,
   "metadata": {},
   "outputs": [],
   "source": [
    "def TextPreprocessing_FeatureExtraction(train_data,test_data):\n",
    "    \n",
    "    retainNumbers = False\n",
    "    useStemming = False\n",
    "    useLemma = True\n",
    "\n",
    "    train_data['comment_text'] = train_data['comment_text'].apply(preprocessor, args=(useLemma, useStemming, retainNumbers))\n",
    "    test_data['comment_text'] = test_data['comment_text'].apply(preprocessor, args=(useLemma, useStemming, retainNumbers))\n",
    "    \n",
    "    \n",
    "    train_data = train_data['comment_text'].values.ravel()\n",
    "    test_data = test_data['comment_text'].values.ravel()\n",
    "    \n",
    "    tokenizer = Tokenizer(num_words=90000, oov_token='<oov>')\n",
    "    tokenizer.fit_on_texts(train_data)\n",
    "    \n",
    "    train_data = tokenizer.texts_to_sequences(train_data)\n",
    "    test_data = tokenizer.texts_to_sequences(test_data)\n",
    "    \n",
    "    vocab_size = len(tokenizer.word_index) + 1\n",
    "    \n",
    "    maxlen = 1000\n",
    "    #Getting maximum number of words in text for padding\n",
    "    #maxlen = max([len(x) for x in np.array(train_data)])\n",
    "    \n",
    "    train_data = pad_sequences(train_data, padding='pre', maxlen=maxlen)\n",
    "    test_data = pad_sequences(test_data, padding='pre', maxlen=maxlen)\n",
    "    \n",
    "    glove_Embedding_Index=GolveWordEmbeddingIndex()\n",
    "    embedding_matrix=np.zeros((vocab_size,200)) \n",
    "    embedding_matrix=get_GloveEmbeddingVector(embedding_matrix,glove_Embedding_Index,tokenizer.word_index.items())\n",
    "    \n",
    "    return train_data,test_data,vocab_size, maxlen,embedding_matrix,tokenizer\n",
    "    \n",
    "        "
   ]
  },
  {
   "cell_type": "code",
   "execution_count": 92,
   "metadata": {
    "scrolled": true
   },
   "outputs": [],
   "source": [
    "train_X,test_X,vocab_size,maxlen,embedding_matrix,tokenizer = TextPreprocessing_FeatureExtraction(train_data,test_data)"
   ]
  },
  {
   "cell_type": "code",
   "execution_count": 21,
   "metadata": {},
   "outputs": [],
   "source": [
    "def Custom_Hamming_Loss(y_true, y_pred):\n",
    "    tmp = K.abs(y_true-y_pred)\n",
    "    return K.mean(K.cast(K.greater(tmp,0.5),dtype=float))"
   ]
  },
  {
   "cell_type": "code",
   "execution_count": 22,
   "metadata": {},
   "outputs": [
    {
     "name": "stdout",
     "output_type": "stream",
     "text": [
      "Model: \"sequential\"\n",
      "_________________________________________________________________\n",
      "Layer (type)                 Output Shape              Param #   \n",
      "=================================================================\n",
      "embedding (Embedding)        (None, 200, 200)          30559800  \n",
      "_________________________________________________________________\n",
      "lstm (LSTM)                  (None, 128)               168448    \n",
      "_________________________________________________________________\n",
      "dense (Dense)                (None, 6)                 774       \n",
      "=================================================================\n",
      "Total params: 30,729,022\n",
      "Trainable params: 169,222\n",
      "Non-trainable params: 30,559,800\n",
      "_________________________________________________________________\n"
     ]
    }
   ],
   "source": [
    "# create and fit the LSTM network\n",
    "model = Sequential()\n",
    "model.add(Embedding(vocab_size, 200, weights=[embedding_matrix], trainable=False,input_length=maxlen))\n",
    "model.add(LSTM(128))\n",
    "model.add(Dense(6, activation='sigmoid'))\n",
    "model.compile(loss='binary_crossentropy', optimizer='adam', metrics=['acc',Custom_Hamming_Loss])\n",
    "model.summary()"
   ]
  },
  {
   "cell_type": "code",
   "execution_count": 23,
   "metadata": {
    "scrolled": true
   },
   "outputs": [
    {
     "name": "stdout",
     "output_type": "stream",
     "text": [
      "Epoch 1/20\n",
      "250/250 [==============================] - 617s 2s/step - loss: 0.1665 - acc: 0.9773 - Custom_Hamming_Loss: 0.0511 - val_loss: 0.0654 - val_acc: 0.9941 - val_Custom_Hamming_Loss: 0.0223\n",
      "Epoch 2/20\n",
      "250/250 [==============================] - 592s 2s/step - loss: 0.0614 - acc: 0.9941 - Custom_Hamming_Loss: 0.0217 - val_loss: 0.0587 - val_acc: 0.9941 - val_Custom_Hamming_Loss: 0.0205\n",
      "Epoch 3/20\n",
      "250/250 [==============================] - 596s 2s/step - loss: 0.0558 - acc: 0.9940 - Custom_Hamming_Loss: 0.0201 - val_loss: 0.0573 - val_acc: 0.9941 - val_Custom_Hamming_Loss: 0.0199\n",
      "Epoch 4/20\n",
      "250/250 [==============================] - 599s 2s/step - loss: 0.0542 - acc: 0.9931 - Custom_Hamming_Loss: 0.0194 - val_loss: 0.0547 - val_acc: 0.9939 - val_Custom_Hamming_Loss: 0.0191\n",
      "Epoch 5/20\n",
      "250/250 [==============================] - 600s 2s/step - loss: 0.0502 - acc: 0.9940 - Custom_Hamming_Loss: 0.0181 - val_loss: 0.0536 - val_acc: 0.9917 - val_Custom_Hamming_Loss: 0.0186\n",
      "Epoch 6/20\n",
      "250/250 [==============================] - 603s 2s/step - loss: 0.0491 - acc: 0.9926 - Custom_Hamming_Loss: 0.0181 - val_loss: 0.0502 - val_acc: 0.9927 - val_Custom_Hamming_Loss: 0.0181\n",
      "Epoch 7/20\n",
      "250/250 [==============================] - 604s 2s/step - loss: 0.0460 - acc: 0.9907 - Custom_Hamming_Loss: 0.0170 - val_loss: 0.0498 - val_acc: 0.9915 - val_Custom_Hamming_Loss: 0.0177\n",
      "Epoch 8/20\n",
      "250/250 [==============================] - 606s 2s/step - loss: 0.0450 - acc: 0.9907 - Custom_Hamming_Loss: 0.0170 - val_loss: 0.0481 - val_acc: 0.9853 - val_Custom_Hamming_Loss: 0.0175\n",
      "Epoch 9/20\n",
      "250/250 [==============================] - 602s 2s/step - loss: 0.0427 - acc: 0.9903 - Custom_Hamming_Loss: 0.0162 - val_loss: 0.0486 - val_acc: 0.9868 - val_Custom_Hamming_Loss: 0.0180\n",
      "Epoch 10/20\n",
      "250/250 [==============================] - 606s 2s/step - loss: 0.0421 - acc: 0.9841 - Custom_Hamming_Loss: 0.0158 - val_loss: 0.0475 - val_acc: 0.9727 - val_Custom_Hamming_Loss: 0.0171\n",
      "Epoch 11/20\n",
      "250/250 [==============================] - 606s 2s/step - loss: 0.0409 - acc: 0.9808 - Custom_Hamming_Loss: 0.0154 - val_loss: 0.0472 - val_acc: 0.9625 - val_Custom_Hamming_Loss: 0.0174\n",
      "Epoch 12/20\n",
      "250/250 [==============================] - 608s 2s/step - loss: 0.0396 - acc: 0.9828 - Custom_Hamming_Loss: 0.0150 - val_loss: 0.0464 - val_acc: 0.9914 - val_Custom_Hamming_Loss: 0.0168\n",
      "Epoch 13/20\n",
      "250/250 [==============================] - 611s 2s/step - loss: 0.0397 - acc: 0.9845 - Custom_Hamming_Loss: 0.0150 - val_loss: 0.0462 - val_acc: 0.9807 - val_Custom_Hamming_Loss: 0.0169\n",
      "Epoch 14/20\n",
      "250/250 [==============================] - 607s 2s/step - loss: 0.0380 - acc: 0.9796 - Custom_Hamming_Loss: 0.0145 - val_loss: 0.0468 - val_acc: 0.9827 - val_Custom_Hamming_Loss: 0.0169\n",
      "Epoch 15/20\n",
      "250/250 [==============================] - 609s 2s/step - loss: 0.0374 - acc: 0.9789 - Custom_Hamming_Loss: 0.0143 - val_loss: 0.0481 - val_acc: 0.9853 - val_Custom_Hamming_Loss: 0.0170\n",
      "Epoch 16/20\n",
      "250/250 [==============================] - 630s 3s/step - loss: 0.0359 - acc: 0.9790 - Custom_Hamming_Loss: 0.0137 - val_loss: 0.0463 - val_acc: 0.9846 - val_Custom_Hamming_Loss: 0.0170\n",
      "Epoch 17/20\n",
      "250/250 [==============================] - 616s 2s/step - loss: 0.0347 - acc: 0.9712 - Custom_Hamming_Loss: 0.0133 - val_loss: 0.0465 - val_acc: 0.9719 - val_Custom_Hamming_Loss: 0.0169\n",
      "Epoch 18/20\n",
      "250/250 [==============================] - 605s 2s/step - loss: 0.0347 - acc: 0.9764 - Custom_Hamming_Loss: 0.0133 - val_loss: 0.0481 - val_acc: 0.9588 - val_Custom_Hamming_Loss: 0.0167\n",
      "Epoch 19/20\n",
      "250/250 [==============================] - 611s 2s/step - loss: 0.0330 - acc: 0.9720 - Custom_Hamming_Loss: 0.0126 - val_loss: 0.0484 - val_acc: 0.9738 - val_Custom_Hamming_Loss: 0.0171\n",
      "Epoch 20/20\n",
      "250/250 [==============================] - 610s 2s/step - loss: 0.0324 - acc: 0.9702 - Custom_Hamming_Loss: 0.0125 - val_loss: 0.0484 - val_acc: 0.9656 - val_Custom_Hamming_Loss: 0.0168\n"
     ]
    }
   ],
   "source": [
    "history = model.fit(train_X, np.array(train_y), batch_size=512, epochs=20, verbose=1,validation_split=0.2)"
   ]
  },
  {
   "cell_type": "code",
   "execution_count": 26,
   "metadata": {},
   "outputs": [
    {
     "name": "stdout",
     "output_type": "stream",
     "text": [
      "dict_keys(['loss', 'acc', 'Custom_Hamming_Loss', 'val_loss', 'val_acc', 'val_Custom_Hamming_Loss'])\n"
     ]
    },
    {
     "data": {
      "image/png": "[encoded data removed]",
      "text/plain": [
       "<Figure size 432x288 with 1 Axes>"
      ]
     },
     "metadata": {
      "needs_background": "light"
     },
     "output_type": "display_data"
    },
    {
     "data": {
      "image/png": "[encoded data removed]",
      "text/plain": [
       "<Figure size 432x288 with 1 Axes>"
      ]
     },
     "metadata": {
      "needs_background": "light"
     },
     "output_type": "display_data"
    },
    {
     "data": {
      "image/png": "[encoded data removed]",
      "text/plain": [
       "<Figure size 432x288 with 1 Axes>"
      ]
     },
     "metadata": {
      "needs_background": "light"
     },
     "output_type": "display_data"
    }
   ],
   "source": [
    "print(history.history.keys())\n",
    "\n",
    "# summarize history for accuracy\n",
    "plt.plot(history.history['acc'])\n",
    "plt.plot(history.history['val_acc'])\n",
    "plt.title('model accuracy')\n",
    "plt.ylabel('accuracy')\n",
    "plt.xlabel('epoch')\n",
    "plt.legend(['train', 'test'], loc='upper left')\n",
    "plt.ylim([0.9, 1])\n",
    "plt.show()\n",
    "\n",
    "# summarize history for loss\n",
    "plt.plot(history.history['loss'])\n",
    "plt.plot(history.history['val_loss'])\n",
    "plt.title('model loss')\n",
    "plt.ylabel('loss')\n",
    "plt.xlabel('epoch')\n",
    "plt.legend(['train', 'test'], loc='upper left')\n",
    "plt.show()\n",
    "\n",
    "# summarize history for Hamming loss\n",
    "plt.plot(history.history['Custom_Hamming_Loss'])\n",
    "plt.plot(history.history['val_Custom_Hamming_Loss'])\n",
    "plt.title('Hamming loss')\n",
    "plt.ylabel('Hamming loss')\n",
    "plt.xlabel('epoch')\n",
    "plt.legend(['train', 'test'], loc='upper left')\n",
    "plt.show()"
   ]
  },
  {
   "cell_type": "code",
   "execution_count": 24,
   "metadata": {},
   "outputs": [
    {
     "name": "stdout",
     "output_type": "stream",
     "text": [
      "2000/2000 [==============================] - 166s 83ms/step - loss: 0.0738 - acc: 0.9614 - Custom_Hamming_Loss: 0.0284\n",
      "Test Loss Score: 0.0737638920545578\n",
      "Test Accuracy: 0.9613773226737976\n",
      "Test Hamming loss: 0.02842240035533905\n"
     ]
    }
   ],
   "source": [
    "#evaluate model using the latest model\n",
    "score = model.evaluate(test_X, np.array(test_y), verbose=1)\n",
    "\n",
    "print(\"Test Loss Score:\", score[0])\n",
    "print(\"Test Accuracy:\", score[1])\n",
    "print(\"Test Hamming loss:\", score[2])"
   ]
  },
  {
   "cell_type": "code",
   "execution_count": 34,
   "metadata": {
    "scrolled": true
   },
   "outputs": [
    {
     "name": "stdout",
     "output_type": "stream",
     "text": [
      "Epoch 1/20\n",
      "250/250 [==============================] - 742s 3s/step - loss: 0.0314 - acc: 0.9693 - Custom_Hamming_Loss: 0.0121 - val_loss: 0.0479 - val_acc: 0.9723 - val_Custom_Hamming_Loss: 0.0173\n",
      "\n",
      "Epoch 00001: val_loss improved from inf to 0.04791, saving model to simple_lstm.h5\n",
      "Epoch 2/20\n",
      "250/250 [==============================] - 719s 3s/step - loss: 0.0306 - acc: 0.9629 - Custom_Hamming_Loss: 0.0117 - val_loss: 0.0495 - val_acc: 0.9695 - val_Custom_Hamming_Loss: 0.0174\n",
      "\n",
      "Epoch 00002: val_loss did not improve from 0.04791\n",
      "Epoch 3/20\n",
      "250/250 [==============================] - 669s 3s/step - loss: 0.0293 - acc: 0.9620 - Custom_Hamming_Loss: 0.0113 - val_loss: 0.0505 - val_acc: 0.9625 - val_Custom_Hamming_Loss: 0.0179\n",
      "\n",
      "Epoch 00003: val_loss did not improve from 0.04791\n",
      "Epoch 00003: early stopping\n"
     ]
    }
   ],
   "source": [
    "# simple early stopping\n",
    "es = EarlyStopping(monitor='val_loss', mode='min', verbose=1, patience=2)\n",
    "# model checkpoint\n",
    "mc = ModelCheckpoint('simple_lstm.h5', monitor='val_loss', mode='min', verbose=1, save_best_only=True)\n",
    "\n",
    "history_es = model.fit(train_X, np.array(train_y), batch_size=512, epochs=20, verbose=1,validation_split=0.2,callbacks=[es,mc])"
   ]
  },
  {
   "cell_type": "code",
   "execution_count": null,
   "metadata": {},
   "outputs": [],
   "source": [
    "model.save('SavedMultiLabelAbussiveDetectionModel_V.01')"
   ]
  },
  {
   "cell_type": "code",
   "execution_count": 267,
   "metadata": {},
   "outputs": [],
   "source": [
    "saved_model3 = load_model('SavedMultiLabelAbussiveDetectionModel_V.01',custom_objects={ 'Custom_Hamming_Loss': Custom_Hamming_Loss })"
   ]
  },
  {
   "cell_type": "code",
   "execution_count": null,
   "metadata": {},
   "outputs": [],
   "source": []
  },
  {
   "cell_type": "code",
   "execution_count": 268,
   "metadata": {
    "scrolled": true
   },
   "outputs": [
    {
     "name": "stdout",
     "output_type": "stream",
     "text": [
      "WARNING:tensorflow:Model was constructed with shape (None, 1000) for input KerasTensor(type_spec=TensorSpec(shape=(None, 1000), dtype=tf.float32, name='embedding_1_input'), name='embedding_1_input', description=\"created by layer 'embedding_1_input'\"), but it was called on an input with incompatible shape (None, 200).\n"
     ]
    },
    {
     "name": "stderr",
     "output_type": "stream",
     "text": [
      "WARNING:tensorflow:Model was constructed with shape (None, 1000) for input KerasTensor(type_spec=TensorSpec(shape=(None, 1000), dtype=tf.float32, name='embedding_1_input'), name='embedding_1_input', description=\"created by layer 'embedding_1_input'\"), but it was called on an input with incompatible shape (None, 200).\n"
     ]
    },
    {
     "name": "stdout",
     "output_type": "stream",
     "text": [
      "125/125 [==============================] - 116s 916ms/step - loss: 0.3002 - acc: 0.9530 - Custom_Hamming_Loss: 0.0567\n",
      "Test Loss Score: 0.30016016960144043\n",
      "Test Accuracy: 0.9530150890350342\n",
      "Test Hamming loss: 0.056699808686971664\n"
     ]
    }
   ],
   "source": [
    "#evaluate model using the saved model\n",
    "score = saved_model3.evaluate(test_X, test_y, verbose=1, batch_size=512)\n",
    "\n",
    "print(\"Test Loss Score:\", score[0])\n",
    "print(\"Test Accuracy:\", score[1])\n",
    "print(\"Test Hamming loss:\", score[2])"
   ]
  },
  {
   "cell_type": "code",
   "execution_count": 269,
   "metadata": {},
   "outputs": [
    {
     "name": "stdout",
     "output_type": "stream",
     "text": [
      "WARNING:tensorflow:Model was constructed with shape (None, 1000) for input KerasTensor(type_spec=TensorSpec(shape=(None, 1000), dtype=tf.float32, name='embedding_1_input'), name='embedding_1_input', description=\"created by layer 'embedding_1_input'\"), but it was called on an input with incompatible shape (None, 200).\n"
     ]
    },
    {
     "name": "stderr",
     "output_type": "stream",
     "text": [
      "WARNING:tensorflow:Model was constructed with shape (None, 1000) for input KerasTensor(type_spec=TensorSpec(shape=(None, 1000), dtype=tf.float32, name='embedding_1_input'), name='embedding_1_input', description=\"created by layer 'embedding_1_input'\"), but it was called on an input with incompatible shape (None, 200).\n"
     ]
    }
   ],
   "source": [
    "predicted_test = saved_model3.predict(test_X, batch_size = 200)"
   ]
  },
  {
   "cell_type": "code",
   "execution_count": 284,
   "metadata": {},
   "outputs": [],
   "source": [
    "predictedLabels = (predicted_test > 0.5).astype(np.int)"
   ]
  },
  {
   "cell_type": "code",
   "execution_count": 285,
   "metadata": {},
   "outputs": [],
   "source": [
    "df_predicted=pd.DataFrame(predictedLabels)"
   ]
  },
  {
   "cell_type": "code",
   "execution_count": 286,
   "metadata": {},
   "outputs": [],
   "source": [
    "df_predicted.columns =['pred_toxic', 'pred_severe_toxic', 'pred_obscene', 'pred_threat','pred_insult','pred_identity_hate']"
   ]
  },
  {
   "cell_type": "code",
   "execution_count": 287,
   "metadata": {},
   "outputs": [],
   "source": [
    "test_data['pred_toxic']=df_predicted['pred_toxic']\n",
    "test_data['pred_severe_toxic']=df_predicted['pred_severe_toxic']\n",
    "test_data['pred_obscene']=df_predicted['pred_obscene']\n",
    "test_data['pred_threat']=df_predicted['pred_threat']\n",
    "test_data['pred_insult']=df_predicted['pred_insult']\n",
    "test_data['pred_identity_hate']=df_predicted['pred_identity_hate']"
   ]
  },
  {
   "cell_type": "code",
   "execution_count": 288,
   "metadata": {},
   "outputs": [],
   "source": [
    "test_data['true_toxic']=np.where(test_data['toxic']==test_data['pred_toxic'], 1, 0)\n",
    "test_data['true_severe_toxic']=np.where(test_data['severe_toxic']==test_data['pred_severe_toxic'], 1, 0)\n",
    "test_data['true_obscene']=np.where(test_data['obscene']==test_data['pred_obscene'], 1, 0)\n",
    "test_data['true_threat']=np.where(test_data['threat']==test_data['pred_threat'], 1, 0)\n",
    "test_data['true_insult']=np.where(test_data['insult']==test_data['pred_insult'], 1, 0)\n",
    "test_data['true_identity_hate']=np.where(test_data['identity_hate']==test_data['pred_identity_hate'], 1, 0)"
   ]
  },
  {
   "cell_type": "code",
   "execution_count": 294,
   "metadata": {},
   "outputs": [
    {
     "data": {
      "text/plain": [
       "1    63208\n",
       "0      770\n",
       "Name: true_identity_hate, dtype: int64"
      ]
     },
     "execution_count": 294,
     "metadata": {},
     "output_type": "execute_result"
    }
   ],
   "source": [
    "test_data['true_identity_hate'].value_counts()"
   ]
  },
  {
   "cell_type": "code",
   "execution_count": 163,
   "metadata": {},
   "outputs": [],
   "source": [
    "tweet='he is an asshole'\n",
    "tweets=[tweet]"
   ]
  },
  {
   "cell_type": "code",
   "execution_count": 170,
   "metadata": {},
   "outputs": [],
   "source": [
    "sequence=tokenizer.texts_to_sequences(pd.Series(tweets))"
   ]
  },
  {
   "cell_type": "code",
   "execution_count": 166,
   "metadata": {},
   "outputs": [],
   "source": [
    "padded_sequence= pad_sequences(sequence, padding='pre', maxlen=200)"
   ]
  },
  {
   "cell_type": "code",
   "execution_count": 167,
   "metadata": {},
   "outputs": [],
   "source": [
    "prediction=model.predict(padded_sequence)"
   ]
  },
  {
   "cell_type": "code",
   "execution_count": 177,
   "metadata": {},
   "outputs": [
    {
     "data": {
      "text/plain": [
       "(1, 200)"
      ]
     },
     "execution_count": 177,
     "metadata": {},
     "output_type": "execute_result"
    }
   ],
   "source": [
    "padded_sequence.shape"
   ]
  },
  {
   "cell_type": "code",
   "execution_count": 179,
   "metadata": {},
   "outputs": [],
   "source": [
    "test_data['comment_text1'] = test_data['comment_text'].apply(preprocessor, args=(True, False, False))"
   ]
  },
  {
   "cell_type": "code",
   "execution_count": 181,
   "metadata": {},
   "outputs": [],
   "source": [
    "test_data_test = test_data['comment_text1'].values.ravel()"
   ]
  },
  {
   "cell_type": "code",
   "execution_count": 182,
   "metadata": {},
   "outputs": [],
   "source": [
    "test_data_testSequence = tokenizer.texts_to_sequences(test_data_test)"
   ]
  },
  {
   "cell_type": "code",
   "execution_count": 184,
   "metadata": {},
   "outputs": [],
   "source": [
    "test_data_testSequence_padded=pad_sequences(test_data_testSequence, padding='pre', maxlen=maxlen)"
   ]
  },
  {
   "cell_type": "code",
   "execution_count": 185,
   "metadata": {},
   "outputs": [
    {
     "data": {
      "text/plain": [
       "(63978, 200)"
      ]
     },
     "execution_count": 185,
     "metadata": {},
     "output_type": "execute_result"
    }
   ],
   "source": [
    "test_data_testSequence_padded.shape"
   ]
  },
  {
   "cell_type": "code",
   "execution_count": 186,
   "metadata": {},
   "outputs": [],
   "source": [
    "predicted_test=model.predict(test_data_testSequence_padded)"
   ]
  },
  {
   "cell_type": "code",
   "execution_count": 187,
   "metadata": {},
   "outputs": [],
   "source": [
    "predicted1Labels = (predicted_test > 0.5).astype(np.int)"
   ]
  },
  {
   "cell_type": "code",
   "execution_count": 190,
   "metadata": {},
   "outputs": [],
   "source": [
    "df_predicted1=pd.DataFrame(predicted1Labels)"
   ]
  },
  {
   "cell_type": "code",
   "execution_count": 192,
   "metadata": {},
   "outputs": [],
   "source": [
    "df_predicted1.columns =['pred_toxic', 'pred_severe_toxic', 'pred_obscene', 'pred_threat','pred_insult','pred_identity_hate']"
   ]
  },
  {
   "cell_type": "code",
   "execution_count": 193,
   "metadata": {},
   "outputs": [
    {
     "data": {
      "text/plain": [
       "0    58740\n",
       "1     5238\n",
       "Name: pred_toxic, dtype: int64"
      ]
     },
     "execution_count": 193,
     "metadata": {},
     "output_type": "execute_result"
    }
   ],
   "source": [
    "df_predicted1['pred_toxic'].value_counts()"
   ]
  },
  {
   "cell_type": "code",
   "execution_count": 194,
   "metadata": {},
   "outputs": [
    {
     "data": {
      "text/plain": [
       "0    54083\n",
       "1     9895\n",
       "Name: pred_toxic, dtype: int64"
      ]
     },
     "execution_count": 194,
     "metadata": {},
     "output_type": "execute_result"
    }
   ],
   "source": [
    "df_predicted['pred_toxic'].value_counts()"
   ]
  },
  {
   "cell_type": "code",
   "execution_count": 199,
   "metadata": {},
   "outputs": [
    {
     "name": "stderr",
     "output_type": "stream",
     "text": [
      "C:\\Users\\ajesh\\Anaconda3\\lib\\site-packages\\ipykernel_launcher.py:5: YAMLLoadWarning: calling yaml.load() without Loader=... is deprecated, as the default Loader is unsafe. Please read https://msg.pyyaml.org/load for full details.\n",
      "  \"\"\"\n"
     ]
    }
   ],
   "source": [
    "#predicting for an unknow comment \n",
    "threshold_dict  = {}\n",
    "\n",
    "with open(\"config.yml\",\"r\") as ymlfile:\n",
    "    cfg = yaml.load(ymlfile)\n",
    "\n",
    "    \n",
    "scenarioParms = cfg[cfg['type']['category']]\n",
    "\n",
    "threshold_dict['toxic'] = scenarioParms['toxic']\n",
    "threshold_dict['severe_toxic'] = scenarioParms['severe_toxic']\n",
    "threshold_dict['obscene'] = scenarioParms['obscene']\n",
    "threshold_dict['threat'] = scenarioParms['threat']\n",
    "threshold_dict['insult'] = scenarioParms['insult']\n",
    "threshold_dict['identity_hate'] = scenarioParms['identity_hate']"
   ]
  },
  {
   "cell_type": "code",
   "execution_count": 200,
   "metadata": {},
   "outputs": [
    {
     "data": {
      "text/plain": [
       "{'toxic': 0.5,\n",
       " 'severe_toxic': 0.3,\n",
       " 'obscene': 0.5,\n",
       " 'threat': 0.5,\n",
       " 'insult': 0.5,\n",
       " 'identity_hate': 0.5}"
      ]
     },
     "execution_count": 200,
     "metadata": {},
     "output_type": "execute_result"
    }
   ],
   "source": [
    "threshold_dict"
   ]
  },
  {
   "cell_type": "code",
   "execution_count": 201,
   "metadata": {},
   "outputs": [],
   "source": [
    "\n",
    "with open('tokenizer.pickle', 'rb') as handle:\n",
    "    tokenizer2 = pickle.load(handle)"
   ]
  },
  {
   "cell_type": "code",
   "execution_count": 209,
   "metadata": {},
   "outputs": [],
   "source": [
    "def get_toxictype(act_or_pred):\n",
    "    act_or_pred = act_or_pred[0]\n",
    "    dict_val = list(threshold_dict.values())\n",
    "    dict_key = list(threshold_dict.keys())\n",
    "    \n",
    "    l = []\n",
    "    for i,value in enumerate(act_or_pred):\n",
    "            if act_or_pred[i] >= dict_val[i]:\n",
    "                l.append(dict_key[i])\n",
    "    if not l:\n",
    "        l.append('Safe comment')      \n",
    "    return l\n",
    "    "
   ]
  },
  {
   "cell_type": "code",
   "execution_count": 224,
   "metadata": {},
   "outputs": [],
   "source": [
    "#test_data3 = 'is mother fucker'\n",
    "#test_data3 = 'kill piss mouth anyone supports soviet scum furthermore support murder public'\n",
    "#test_data3 = 'ashole douchebag mother fucker hope die'\n",
    "#test_data3 = 'fuck u mother fucker'\n",
    "#test_data3 = 'Stupid peace of shit stop deleting my stuff asshole go die and fall in a hole go to hell fucked '\n",
    "#test_data3 = 'fuck asshole stop insulting harry potter mother fucker'\n",
    "#test_data3 = 'fuck asshole stop insulting harry potter motherfucking bitchasshole fuck harry potter fuck harry potter fans die motherfucker die'\n",
    "test_data3 = 'son bitch hey fucking neo nazi murkin son bitch fuck get fuck country move us fucking motherfucker p let door hit ass fucking way fucking bushite'\n",
    "\n"
   ]
  },
  {
   "cell_type": "code",
   "execution_count": 225,
   "metadata": {},
   "outputs": [],
   "source": [
    "test_data3 = preprocessor(test_data4, True, False, False)\n",
    "\n",
    "test_data2 = []\n",
    "test_data2.append(test_data3)"
   ]
  },
  {
   "cell_type": "code",
   "execution_count": 226,
   "metadata": {},
   "outputs": [],
   "source": [
    "    \n",
    "test_data2 = tokenizer2.texts_to_sequences(test_data2)"
   ]
  },
  {
   "cell_type": "code",
   "execution_count": 227,
   "metadata": {},
   "outputs": [],
   "source": [
    "test_data2 = pad_sequences(test_data2, padding='pre', maxlen=1000)\n",
    "score = list(saved_model.predict(test_data2))"
   ]
  },
  {
   "cell_type": "code",
   "execution_count": 222,
   "metadata": {},
   "outputs": [
    {
     "data": {
      "text/plain": [
       "[array([0.6062566 , 0.01376668, 0.10700735, 0.00374579, 0.2881437 ,\n",
       "        0.08000156], dtype=float32)]"
      ]
     },
     "execution_count": 222,
     "metadata": {},
     "output_type": "execute_result"
    }
   ],
   "source": [
    "score"
   ]
  },
  {
   "cell_type": "code",
   "execution_count": 229,
   "metadata": {},
   "outputs": [
    {
     "name": "stdout",
     "output_type": "stream",
     "text": [
      "['toxic']\n"
     ]
    }
   ],
   "source": [
    "print(get_toxictype(score))\n"
   ]
  },
  {
   "cell_type": "code",
   "execution_count": null,
   "metadata": {},
   "outputs": [],
   "source": []
  }
 ],
 "metadata": {
  "kernelspec": {
   "display_name": "Python 3",
   "language": "python",
   "name": "python3"
  },
  "language_info": {
   "codemirror_mode": {
    "name": "ipython",
    "version": 3
   },
   "file_extension": ".py",
   "mimetype": "text/x-python",
   "name": "python",
   "nbconvert_exporter": "python",
   "pygments_lexer": "ipython3",
   "version": "3.7.4"
  }
 },
 "nbformat": 4,
 "nbformat_minor": 2
}
